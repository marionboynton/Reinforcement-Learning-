{
  "nbformat": 4,
  "nbformat_minor": 0,
  "metadata": {
    "colab": {
      "name": "RL_Tabular_Methods.ipynb",
      "provenance": [],
      "collapsed_sections": [],
      "authorship_tag": "ABX9TyM+BM3E+ZoIW2INo5swcY3s",
      "include_colab_link": true
    },
    "kernelspec": {
      "name": "python3",
      "display_name": "Python 3"
    },
    "accelerator": "GPU"
  },
  "cells": [
    {
      "cell_type": "markdown",
      "metadata": {
        "id": "view-in-github",
        "colab_type": "text"
      },
      "source": [
        "<a href=\"https://colab.research.google.com/github/marionboynton/Reinforcement-Learning-/blob/main/RL_Tabular_Methods.ipynb\" target=\"_parent\"><img src=\"https://colab.research.google.com/assets/colab-badge.svg\" alt=\"Open In Colab\"/></a>"
      ]
    },
    {
      "cell_type": "markdown",
      "metadata": {
        "id": "6TOwccuYXzGU"
      },
      "source": [
        "Solving Grid World with various Tabular Methods"
      ]
    },
    {
      "cell_type": "code",
      "metadata": {
        "id": "V3t544NRSJW9"
      },
      "source": [
        "import numpy as np\n",
        "import matplotlib.pyplot as plt\n",
        "import random"
      ],
      "execution_count": 1,
      "outputs": []
    },
    {
      "cell_type": "code",
      "metadata": {
        "id": "4tqi7s_CSMHO"
      },
      "source": [
        "class GridWorld(object):\n",
        "    def __init__(self, p):\n",
        "        \n",
        "        ### Attributes defining the Gridworld #######\n",
        "        # Shape of the gridworld\n",
        "        self.shape = (6,6)\n",
        "        \n",
        "        # Locations of the obstacles\n",
        "        self.obstacle_locs = [(1,1),(3,1),(4, 1), (4,2),(2,3),(2,5),(4,4)]\n",
        "        \n",
        "        # Locations for the absorbing states\n",
        "        self.absorbing_locs = [(4,3),(1,2)]\n",
        "        \n",
        "        # Rewards for each of the absorbing states \n",
        "        self.special_rewards = [-100, 10] #corresponds to each of the absorbing_locs\n",
        "        \n",
        "        # Reward for all the other states\n",
        "        self.default_reward = -1\n",
        "        \n",
        "        #states in order\n",
        "        self.states_order = [12,13,14,15,16,17,1,2,3,4,19,20,5,6,7,21,8,9,10,22,23,11,24,25,26,27,28,29,30]\n",
        "\n",
        "        # Action names\n",
        "        self.action_names = ['N','E','S','W']\n",
        "        \n",
        "        # Number of actions\n",
        "        self.action_size = len(self.action_names)\n",
        "        \n",
        "        \n",
        "        # Randomizing action results: [1 0 0 0] to no Noise in the action results.\n",
        "        #self.action_randomizing_array = [0.45, 11/60, 11/60 , 11/60]\n",
        "        po = (1-p)/3\n",
        "        self.action_randomizing_array = [p, po, po , po]\n",
        "        #self.action_randomizing_array = [1, 0, 0 , 0]\n",
        "        ###########################################\n",
        "    \n",
        "        #### Internal State  ####\n",
        "        \n",
        "        # Get attributes defining the world\n",
        "        state_size, T, R, absorbing, locs = self.build_grid_world()\n",
        "        \n",
        "        # Number of valid states in the gridworld (there are 22 of them)\n",
        "        self.state_size = state_size\n",
        "        \n",
        "        # Transition operator (3D tensor)\n",
        "        self.T = T\n",
        "        \n",
        "        # Reward function (3D tensor)\n",
        "        self.R = R\n",
        "        \n",
        "        # Absorbing states\n",
        "        self.absorbing = absorbing\n",
        "        \n",
        "        # The locations of the valid states\n",
        "        self.locs = locs\n",
        "\n",
        "        self.non_absorbing = [x for x in self.locs if x not in self.absorbing_locs]\n",
        "        \n",
        "        # Starting location\n",
        "        self.starting_loc = random.choice(self.non_absorbing)\n",
        "\n",
        "        # Number of the starting state\n",
        "        self.starting_state = self.loc_to_state_idx(self.starting_loc, locs);\n",
        "        \n",
        "        # Locating the initial state\n",
        "        self.initial = np.zeros((1,len(locs)))\n",
        "        self.initial[0,self.starting_state] = 1\n",
        "        \n",
        "        \n",
        "        # Placing the walls on a bitmap\n",
        "        self.walls = np.zeros(self.shape);\n",
        "        for ob in self.obstacle_locs:\n",
        "            self.walls[ob]=1\n",
        "            \n",
        "        # Placing the absorbers on a grid for illustration\n",
        "        self.absorbers = np.zeros(self.shape)\n",
        "        for ab in self.absorbing_locs:\n",
        "            self.absorbers[ab] = -1\n",
        "        \n",
        "        # Placing the rewarders on a grid for illustration\n",
        "        self.rewarders = np.zeros(self.shape)\n",
        "        for i, rew in enumerate(self.absorbing_locs):\n",
        "            self.rewarders[rew] = self.special_rewards[i]\n",
        "        \n",
        "        #Illustrating the grid world\n",
        "        self.paint_maps()\n",
        "        ################################\n",
        "\n",
        "    ####### Getters ###########\n",
        "    def get_transition_matrix(self):\n",
        "        return self.T\n",
        "    \n",
        "    def get_reward_matrix(self):\n",
        "        return self.R\n",
        "    \n",
        "    ########################\n",
        "    \n",
        "\n",
        "    ####### Q Learning Methods #########\n",
        "    def policy_evaluation(self, threshold, discount, policy):\n",
        "    \n",
        "        # Make sure delta is bigger than the threshold to start with\n",
        "        delta= 2*threshold\n",
        "        \n",
        "        #Get the reward and transition matrices\n",
        "        R = self.get_reward_matrix()\n",
        "        T = self.get_transition_matrix()\n",
        "        \n",
        "        # The value is initialised at 0\n",
        "        V = np.zeros(policy.shape[0])\n",
        "        # Make a deep copy of the value array to hold the update during the evaluation\n",
        "        Vnew = np.copy(V)\n",
        "        V_list = np.array([Vnew])\n",
        "\n",
        "        epochs=0\n",
        "        # While the Value has not yet converged do:\n",
        "        while delta>=threshold:\n",
        "            epochs +=1\n",
        "            for state_idx in range(policy.shape[0]):\n",
        "                # If it is one of the absorbing states, ignore\n",
        "                if(self.absorbing[0,state_idx]):\n",
        "                    continue   \n",
        "                \n",
        "                # Accumulator variable for the Value of a state\n",
        "                tmpV = 0\n",
        "                for action_idx in range(policy.shape[1]):\n",
        "                    # Accumulator variable for the State-Action Value\n",
        "                    tmpQ = 0\n",
        "                    for state_idx_prime in range(policy.shape[0]):\n",
        "                        tmpQ = tmpQ + T[state_idx_prime,state_idx,action_idx] * (R[state_idx_prime,state_idx, action_idx] + discount * V[state_idx_prime])\n",
        "                    \n",
        "                    tmpV += policy[state_idx,action_idx] * tmpQ\n",
        "                    \n",
        "                # Update the value of the state\n",
        "                Vnew[state_idx] = tmpV\n",
        "            \n",
        "            # After updating the values of all states, update the delta\n",
        "            delta =  max(abs(Vnew-V))\n",
        "            # and save the new value into the old\n",
        "            V=np.copy(Vnew)\n",
        "            V_list = np.append(V_list, [V], axis=0)\n",
        "        return V, V_list, epochs\n",
        "    \n",
        "\n",
        "    def policy_iteration(self, threshold, discount, policy_evaluation=policy_evaluation):\n",
        "        #Get the reward and transition matrices\n",
        "        R = self.get_reward_matrix()\n",
        "        T = self.get_transition_matrix()\n",
        "\n",
        "        policy = np.ones((self.state_size, self.action_size))*0.25 # Vector of 0\n",
        "        #policy[:,0] = 1 # Initialise policy to choose action 1 systematically\n",
        "        epochs = 0\n",
        "        policy_stable = False\n",
        "\n",
        "        #iterations = 0\n",
        "        while not policy_stable: \n",
        "          #policy evaluation\n",
        "          V, V_list, epochs_eval = policy_evaluation(self, threshold=threshold, discount=discount, policy=policy)\n",
        "          epochs += epochs_eval\n",
        "          \n",
        "          #policy improvement\n",
        "          s_policy_stable = (self.absorbing ==1)[0]\n",
        "        \n",
        "          # Make a deep copy of the value array to hold the update during the evaluation\n",
        "          #Vnew = np.copy(V)\n",
        "  \n",
        "          for state_idx in range(policy.shape[0]):\n",
        "                # If it is one of the absorbing states, ignore\n",
        "                if(self.absorbing[0,state_idx]):\n",
        "                    continue \n",
        "                \n",
        "                current_action = np.argmax(policy[state_idx,:])\n",
        "                #policy_imp[state_idx].copy()\n",
        "                #action_idx_max=np.argmax(policy_imp[state_idx])\n",
        "                #Qmax= V[state_idx]\n",
        "                \n",
        "                # Compute Q value\n",
        "                Q = np.zeros(4) # Initialise with value 0\n",
        "                for state_idx_prime in range(policy.shape[0]):\n",
        "                  Q += T[state_idx_prime,state_idx,:] * (R[state_idx_prime,state_idx, :] + discount * V[state_idx_prime])\n",
        "\n",
        "                 # Compute corresponding policy\n",
        "                  policy_imp = np.zeros(4)\n",
        "                  policy_imp[np.argmax(Q)] = 1  # The action that maximises the Q value gets probability 1\n",
        "                  policy[state_idx] = policy_imp\n",
        "                \n",
        "                  # Check if the policy has converged\n",
        "                  if current_action == np.argmax(policy[state_idx]):\n",
        "                    #policy_stable = True\n",
        "                    s_policy_stable[state_idx] = True\n",
        "          \n",
        "          if np.all(s_policy_stable):\n",
        "            policy_stable = True\n",
        "        print('Epochs: ', epochs)\n",
        "        #print('Optimatal State Values: ')    \n",
        "        #print(V)    \n",
        "        return policy, V\n",
        "\n",
        "    def value_iteration(self, threshold, discount):\n",
        "        # Make sure delta is bigger than the threshold to start with\n",
        "        delta= threshold\n",
        "        \n",
        "        #Get the reward and transition matrices\n",
        "        R = self.get_reward_matrix()\n",
        "        T = self.get_transition_matrix() \n",
        "        state_size = self.state_size\n",
        "        action_size = self.action_size\n",
        "\n",
        "        # The value is initialised at 0\n",
        "        V = np.zeros(state_size)\n",
        "        # Make a deep copy of the value array to hold the update during the evaluation\n",
        "        Vnew = np.copy(V)\n",
        "        #V_list = np.array([Vnew])\n",
        "        epochs =0\n",
        "\n",
        "        # While the Value has not yet converged do:\n",
        "        while delta>=threshold:\n",
        "            epochs+=1 \n",
        "            delta = 0 #reinitialize\n",
        "\n",
        "            for state_idx in range(state_size):\n",
        "                # If it is one of the absorbing states, ignore\n",
        "                if not(self.absorbing[0,state_idx]):\n",
        "                    #continue   \n",
        "                \n",
        "                # Accumulator variable for the Value of a state\n",
        "                #tmpV = 0\n",
        "                  Vc = V[state_idx]\n",
        "                  Q = np.zeros(4) #state action values\n",
        "\n",
        "                #for action_idx in range(action_size):\n",
        "                    # Accumulator variable for the State-Action Value\n",
        "                    #tmpQ = 0\n",
        "                  for state_idx_prime in range(state_size):\n",
        "                    #tmpQ = tmpQ + T[state_idx_prime,state_idx,action_idx] * (R[state_idx_prime,state_idx, action_idx] + discount * V[state_idx_prime])\n",
        "                    Q += T[state_idx_prime,state_idx,:] * (R[state_idx_prime,state_idx, :] + discount * V[state_idx_prime])\n",
        "\n",
        "                # Update the value of the state\n",
        "                  V[state_idx] = np.max(Q)      #tmpV\n",
        "                  delta =  max(delta, np.abs(Vc-V[state_idx]))\n",
        "            #V_list = np.append(V_list, [V], axis=0)\n",
        "        \n",
        "        #print('Iterations: ', iterations)\n",
        "        #print('Optimatal State Values: ')\n",
        "        #print(V)\n",
        "\n",
        "        policy_optimal = np.zeros((state_size, action_size))\n",
        "\n",
        "        for state_idx in range(state_size):\n",
        "                # If it is one of the absorbing states, ignore\n",
        "                if(self.absorbing[0,state_idx]):\n",
        "                    continue  \n",
        "\n",
        "                #action_idx_max=0 \n",
        "                #Qmax=0\n",
        "                Q = np.zeros(4)\n",
        "                for state_idx_prime in range(state_size):\n",
        "                  Q += T[state_idx_prime,state_idx,:] * (R[state_idx_prime,state_idx, :] + discount * V[state_idx_prime])\n",
        "                \n",
        "                action_max = np.argmax(Q)\n",
        "                policy_optimal[state_idx, action_max] = 1\n",
        "        print('Epochs: ', epochs)\n",
        "        return policy_optimal, V\n",
        "\n",
        "    def draw_deterministic_policy(self, policy, title):\n",
        "        # Draw a deterministic policy\n",
        "        # The policy needs to be a np array of 22 values between 0 and 3 with\n",
        "        # 0 -> N, 1->E, 2->S, 3->W\n",
        "        action_policy = np.apply_along_axis((lambda x: np.argmax(x)), 1, policy)\n",
        "\n",
        "        plt.figure()\n",
        "        plt.imshow(self.walls+self.rewarders +self.absorbers)\n",
        "        #plt.hold('on')\n",
        "        for state, action in enumerate(action_policy):\n",
        "            if(self.absorbing[0,state]):\n",
        "                continue\n",
        "            arrows = [r\"$\\uparrow$\",r\"$\\rightarrow$\", r\"$\\downarrow$\", r\"$\\leftarrow$\"]\n",
        "            action_arrow = arrows[action]\n",
        "            location = self.locs[state]\n",
        "            plt.text(location[1], location[0], action_arrow, ha='center', va='center')\n",
        "        plt.title(title)\n",
        "        plt.show()\n",
        "\n",
        "\n",
        "    def draw_value(self, Value, title):\n",
        "        # Draw a policy value function\n",
        "        # The value need to be a np array of 22 values \n",
        "        plt.figure()\n",
        "        \n",
        "        plt.imshow(self.walls+self.rewarders +self.absorbers) # Create the graph of the grid\n",
        "        for state, value in enumerate(Value):\n",
        "            if(self.absorbing[0,state]): # If it is an absorbing state, don't plot any value\n",
        "                continue\n",
        "            location = self.locs[state] # Compute the value location on graph\n",
        "            plt.text(location[1], location[0], round(value,2), ha='center', va='center') # Place it on graph\n",
        "        plt.title(title)\n",
        "        plt.show()\n",
        "\n",
        "#########\n",
        "\n",
        "\n",
        "    def mdp_episode(self, policy, gamma=0.2):\n",
        "        #action_policy = np.apply_along_axis((lambda x: np.argmax(x)), 1, policy)\n",
        "        #action_policy = np.apply_along_axis((lambda x: np.argsort(-x)), 1, policy)\n",
        "        #direction_policy. = \n",
        "        R = self.get_reward_matrix()\n",
        "        T = self.get_transition_matrix() \n",
        "        locs = self.locs \n",
        "        state_size = self.state_size\n",
        "        action_size = self.action_size\n",
        "        actions = self.action_names\n",
        "        directions = ['nr', 'ea', 'so', 'we']\n",
        "        trace = np.empty((0,3))\n",
        "        \n",
        "        # Starting location\n",
        "        loc = random.choice(self.non_absorbing)\n",
        "        #state = self.starting_state\n",
        "        \n",
        "        while loc not in self.absorbing_locs:\n",
        "          #pol_idx = 0\n",
        "          state = self.loc_to_state_idx(loc, locs)\n",
        "          state_label = self.loc_to_state_name(loc, locs)\n",
        "          #print(state_label)\n",
        "          \n",
        "          #dir = action_policy[state]  #, pol_idx\n",
        "          dir = np.random.choice([0,1,2,3] ,p=policy[state, :])\n",
        "          next_loc_intended = self.get_neighbour(loc, directions[dir])\n",
        "\n",
        "          next_state_intended = self.loc_to_state_idx(next_loc_intended, locs)\n",
        "          trans = T[next_state_intended, state, :]\n",
        "          action = np.random.choice([0,1,2,3] ,p=trans)\n",
        "          next_loc = self.get_neighbour(loc, directions[action])\n",
        "          next_state = self.loc_to_state_idx(next_loc, locs)\n",
        "          #next_state_label = self.loc_to_state_name(next_loc, locs)\n",
        "          reward = R[next_state, state, action]\n",
        "          trace = np.append(trace, np.array([[int(state), int(action), reward]]), axis=0)\n",
        "\n",
        "          loc = next_loc\n",
        "        rewards = trace[:, 2]\n",
        "        discounts = np.array([gamma**i for i in range(len(rewards))])\n",
        "        #final_G = sum(rewards)\n",
        "        final_G = sum(discounts*np.flip(rewards)) #total discounted return from last state looking backwards \n",
        "       \n",
        "        return trace, final_G\n",
        "\n",
        "    def td_estimation(self, policy, dpV, n, gamma=0.2):\n",
        "        T = self.get_transition_matrix()\n",
        "        R = self.get_reward_matrix()\n",
        "        state_size = self.state_size\n",
        "        action_size = self.action_size\n",
        "        locs = self.locs \n",
        "        actions = self.action_names\n",
        "        directions = ['nr', 'ea', 'so', 'we']\n",
        "\n",
        "        alpha_start = 1\n",
        "        alpha_decay = 0.99955\n",
        "        alpha_min = 0.001\n",
        "\n",
        "        V = np.zeros(self.state_size) # Initialise values at 0 for each state\n",
        "        rmse = []\n",
        "        final_ret = []\n",
        "        episode_rewards = []\n",
        "\n",
        "        alpha = alpha_start\n",
        "        for i in range(n):\n",
        "          if i%20000==0: print('ep:', i)\n",
        "          alpha = max(alpha*alpha_decay, alpha_min)\n",
        "          ep_reward = 0\n",
        "          errors = []\n",
        "          r_list = []\n",
        "          \n",
        "          # Starting location\n",
        "          loc = random.choice(self.non_absorbing)\n",
        "          state = self.loc_to_state_idx(loc, locs)\n",
        "\n",
        "          while loc not in self.absorbing_locs:\n",
        "            dir = np.random.choice([0,1,2,3] ,p=policy[state, :])\n",
        "            next_loc_intended = self.get_neighbour(loc, directions[dir])\n",
        "            next_state_intended = self.loc_to_state_idx(next_loc_intended, locs)\n",
        "            trans = T[next_state_intended, state, :]\n",
        "            action = np.random.choice([0,1,2,3] ,p=trans)\n",
        "            next_loc = self.get_neighbour(loc, directions[action])\n",
        "            next_state = self.loc_to_state_idx(next_loc, locs)\n",
        "            #next_state_label = self.loc_to_state_name(next_loc, locs)\n",
        "            reward = R[next_state, state, action]\n",
        "            ep_reward += reward\n",
        "            r_list.append(reward)\n",
        "            oldV = V[state]\n",
        "            delta = reward + gamma*V[next_state] - oldV\n",
        "            V[state]= oldV + alpha*delta\n",
        "            loc=next_loc\n",
        "            state = next_state\n",
        "          \n",
        "          episode_rewards.append(ep_reward)\n",
        "          err = np.sqrt(np.mean(np.square(np.subtract(V, dpV))))\n",
        "          rmse.append(err)\n",
        "          discounts = np.array([gamma**i for i in range(len(r_list))])\n",
        "          ep_return = np.sum(discounts*np.flip(np.array(r_list)))\n",
        "          final_ret.append(ep_return)\n",
        "\n",
        "        return V, rmse              # final_ret, episode_rewards\n",
        "\n",
        "\n",
        "    def mc_estimation(self, policy, dpV, n, gamma=0.2):\n",
        "        V = np.zeros(self.state_size) # Initialise values at 0 for each state\n",
        "        returns = [[] for i in range(self.state_size)]\n",
        "        rmse = []\n",
        "        final_ret = []\n",
        "        episode_rewards = []\n",
        " \n",
        "        for i in range(n):\n",
        "          #if i%1000==0: print('ep:', i)\n",
        "          errors = []\n",
        "          states_actions_rewards, e_G = self.mdp_episode(policy)\n",
        "          states, actions, rewards = zip(*states_actions_rewards)\n",
        "          seen_states = set()\n",
        "          discounts = np.array([gamma**i for i in range(len(rewards)+1)])\n",
        "          fin_s = int(states[-1])\n",
        "          for i, state in enumerate(states):\n",
        "            state = int(state)\n",
        "            #first visit \n",
        "            if state not in seen_states:\n",
        "              ret = sum(rewards[i:]*discounts[:-(1+i)])\n",
        "              returns[state].append(ret)\n",
        "              V[state] = np.mean(np.array(returns[state]))\n",
        "              errors.append(np.square(V[state] - dpV[state]))\n",
        "              seen_states.add(state)\n",
        "              if state == fin_s:\n",
        "                final_ret.append(V[state])\n",
        "          episode_rewards.append(sum(rewards))\n",
        "          rmse.append(np.sqrt(np.mean(errors)))\n",
        "        return V, rmse                    #returns, rmse, final_ret, episode_rewards\n",
        "\n",
        "\n",
        "\n",
        "    def mc_iterative(self, n, dpV, gamma = 0.2):\n",
        "        T = self.get_transition_matrix()\n",
        "        R = self.get_reward_matrix()\n",
        "        state_size = self.state_size\n",
        "        action_size = self.action_size\n",
        "        #policy = np.ones((self.state_size, self.action_size))*0.25\n",
        "        alpha_start = 1\n",
        "        alpha_decay = 0.99955\n",
        "        alpha_min = 0.01\n",
        "        epsilon_start = 1\n",
        "        epsilon_decay = 0.9994\n",
        "        epsilon_min = 0.05\n",
        "        #policy = np.zeros((self.state_size, self.action_size)) # Vector of 0\n",
        "        #policy[:,0] = 1 # Initialise policy to choose action 1 systematically\n",
        "\n",
        "        Q = np.zeros((self.state_size, self.action_size)) # Initialise values at 0 for each state\n",
        "        V = np.zeros(self.state_size) # Initialise values at 0 for each state\n",
        "        returns = [[] for i in range(self.state_size)]\n",
        "        rmse = []\n",
        "        final_ret = []\n",
        "        episode_rewards = []\n",
        "        #returns = np.zeros((self.state_size, self.action_size), dtype=np.ndarray)  \n",
        "        deltas = []\n",
        "        return_progress = []\n",
        "        return_std = []\n",
        "        epsilon = epsilon_start \n",
        "        alpha = alpha_start\n",
        "\n",
        "        policy = np.zeros((self.state_size, self.action_size)) # Vector of 0\n",
        "        for state_idx in range(state_size):\n",
        "            #policy[state_idx, np.argmax(Q[state_idx,:])] = 1\n",
        "            best_action = np.argmax(Q[state_idx,:])\n",
        "            for action_idx in range(action_size):\n",
        "              if action_idx == best_action:\n",
        "                policy[state_idx, action_idx] = 1-epsilon + epsilon/action_size\n",
        "              else:\n",
        "                policy[state_idx, action_idx] = epsilon/action_size\n",
        "\n",
        "        for i in range(1, n+1):\n",
        "          biggest_change = 0\n",
        "          epsilon = max(epsilon*epsilon_decay, epsilon_min)\n",
        "          #epsilon = 1\n",
        "          if i%1000 == 0: print(f'Episode {i} -> epsilon={epsilon}')\n",
        "          alpha = max(alpha*alpha_decay, alpha_min)\n",
        "          #alpha = 1/i\n",
        "          #average returns\n",
        "          return_eps = []\n",
        "          for i in range(0, 50):\n",
        "            states_actions_rewards, e_G = self.mdp_episode(policy)\n",
        "            return_eps.append(e_G)\n",
        "          return_progress.append(np.mean(np.array(return_eps)))\n",
        "          return_std.append(np.std(np.array(return_eps)))\n",
        "\n",
        "          seen_state_action_pairs = set()\n",
        "          seen_states = set()\n",
        "          #print(states_actions_returns)\n",
        "\n",
        "          #return_progress.append(e_G)\n",
        "          states, actions, rewards = zip(*states_actions_rewards)\n",
        "          fin_s = int(states[-1])\n",
        "          discounts = np.array([gamma**i for i in range(len(rewards)+1)])\n",
        "          errors = []\n",
        "          for i, state in enumerate(states):\n",
        "            state = int(state)\n",
        "            act = int(actions[i])\n",
        "            if (state, act) not in seen_state_action_pairs:\n",
        "              ret = sum(rewards[i:]*discounts[:-(1+i)])\n",
        "              if state not in seen_states:\n",
        "                ret = sum(rewards[i:]*discounts[:-(1+i)])\n",
        "                returns[state].append(ret)\n",
        "                V[state] = np.mean(np.array(returns[state]))\n",
        "                errors.append(np.square(V[state] - dpV[state]))\n",
        "                seen_states.add(state)\n",
        "                if state == fin_s:\n",
        "                  final_ret.append(V[state])\n",
        "              \n",
        "              old_Q = Q[state,act] \n",
        "              update =  ret - old_Q\n",
        "              Q[state,act] = old_Q + alpha*(update)\n",
        "              biggest_change = max(biggest_change, update)\n",
        "              seen_state_action_pairs.add((state, act))\n",
        "          deltas.append(biggest_change)    \n",
        "          episode_rewards.append(sum(rewards))\n",
        "          rmse.append(np.sqrt(np.mean(errors)))\n",
        "\n",
        "            # update policy\n",
        "          policy = np.zeros((self.state_size, self.action_size)) # Vector of 0\n",
        "          for state_idx in range(state_size):\n",
        "            #policy[state_idx, np.argmax(Q[state_idx,:])] = 1\n",
        "            best_action = np.argmax(Q[state_idx,:])\n",
        "            for action_idx in range(action_size):\n",
        "              if action_idx == best_action:\n",
        "                policy[state_idx, action_idx] = 1-epsilon + epsilon/action_size\n",
        "              else:\n",
        "                policy[state_idx, action_idx] = epsilon/action_size\n",
        "        \n",
        "\n",
        "        \n",
        "        return policy, rmse, return_progress    #, return_std, deltas, episode_rewards, final_ret,\n",
        "\n",
        "\n",
        "    ##########################\n",
        "\n",
        "    def epsilon_greedy(self, Q, epsilon):\n",
        "      state_size = self.state_size\n",
        "      action_size = self.action_size\n",
        "      policy = np.zeros((state_size, action_size)) # Vector of 0\n",
        "      \n",
        "      for state_idx in range(state_size):\n",
        "            #policy[state_idx, np.argmax(Q[state_idx,:])] = 1\n",
        "            best_action = np.argmax(Q[state_idx,:])\n",
        "            for action_idx in range(action_size):\n",
        "              if action_idx == best_action:\n",
        "                policy[state_idx, action_idx] = 1-epsilon + epsilon/action_size\n",
        "              else:\n",
        "                policy[state_idx, action_idx] = epsilon/action_size\n",
        "      return policy\n",
        "\n",
        "    def sarsa(self, n, dpV, gamma = 0.2, epsilon_greedy=epsilon_greedy):\n",
        "        T = self.get_transition_matrix()\n",
        "        R = self.get_reward_matrix()\n",
        "        state_size = self.state_size\n",
        "        action_size = self.action_size\n",
        "        #policy = np.ones((self.state_size, self.action_size))*0.25\n",
        "        alpha_start = 1\n",
        "        alpha_decay = 0.99955\n",
        "        alpha_min = 0.01\n",
        "        epsilon_start = 1\n",
        "        epsilon_decay = 0.9994\n",
        "        epsilon_min = 0.05\n",
        "        #policy = np.zeros((self.state_size, self.action_size)) # Vector of 0\n",
        "        #policy[:,0] = 1 # Initialise policy to choose action 1 systematically\n",
        "\n",
        "        locs = self.locs \n",
        "        actions = self.action_names\n",
        "        directions = ['nr', 'ea', 'so', 'we']\n",
        "        trace = np.empty((0,3))\n",
        "        Q = np.zeros((self.state_size, self.action_size)) # Initialise values at 0 for each state\n",
        "        V = np.zeros(self.state_size) # Initialise values at 0 for each state\n",
        "        rmse = []\n",
        "        final_ret = []\n",
        "        episode_rewards = []\n",
        "        #returns = np.zeros((self.state_size, self.action_size), dtype=np.ndarray)  \n",
        "        deltas = []\n",
        "        return_progress = []\n",
        "        return_std = []\n",
        "        reward_progress = []\n",
        "        episode_lengths=[]\n",
        "        epsilon = epsilon_start\n",
        "        alpha = alpha_start  \n",
        "\n",
        "        for i in range(1, n+1):\n",
        "          #total_reward = 0\n",
        "          biggest_change = 0\n",
        "          epsilon = max(epsilon*epsilon_decay, epsilon_min)\n",
        "          #epsilon = 1\n",
        "          alpha = max(alpha*alpha_decay, alpha_min)\n",
        "          #epsilon = 1/i\n",
        "          if i%1000 == 0: print(f'Episode {i} -> epsilon={epsilon}')\n",
        "          \n",
        "          policy = epsilon_greedy(self, Q, epsilon)\n",
        "          #average rewards\n",
        "          return_eps = []\n",
        "          for i in range(0, 30):\n",
        "            states_actions_rewards, e_G = self.mdp_episode(policy)\n",
        "            return_eps.append(e_G)\n",
        "          return_progress.append(np.mean(np.array(return_eps)))\n",
        "          return_std.append(np.std(np.array(return_eps)))\n",
        "\n",
        "          ep_reward = 0\n",
        "          errors = []\n",
        "          r_list = []\n",
        "          # Starting location\n",
        "          loc = random.choice(self.non_absorbing)\n",
        "          state = self.loc_to_state_idx(loc, locs)\n",
        "          dir = np.random.choice([0,1,2,3] ,p=policy[state, :])\n",
        "          next_loc_intended = self.get_neighbour(loc, directions[dir])\n",
        "          next_state_intended = self.loc_to_state_idx(next_loc_intended, locs)\n",
        "          trans = T[next_state_intended, state, :]\n",
        "          action = np.random.choice([0,1,2,3] ,p=trans)\n",
        "          t = 0\n",
        "          #state = self.starting_state\n",
        "          biggest_change = 0\n",
        "          while loc not in self.absorbing_locs:\n",
        "            #pol_idx = 0\n",
        "            \n",
        "            next_loc = self.get_neighbour(loc, directions[action])\n",
        "            next_state = self.loc_to_state_idx(next_loc, locs)\n",
        "            #next_state_label = self.loc_to_state_name(next_loc, locs)\n",
        "            reward = R[next_state, state, action]\n",
        "            ep_reward += reward\n",
        "            r_list.append(reward)\n",
        "            #V estimation\n",
        "            oldV = V[state]\n",
        "            delta = reward + gamma*V[next_state] - oldV\n",
        "            V[state]= oldV + alpha*delta\n",
        "            t+=1\n",
        "            #A'\n",
        "            #if next_loc not in self.absorbing_locs:\n",
        "            dir = np.random.choice([0,1,2,3] ,p=policy[next_state, :])\n",
        "            nn_loc_intended = self.get_neighbour(next_loc, directions[dir])\n",
        "            nn_state_intended = self.loc_to_state_idx(nn_loc_intended, locs)\n",
        "            trans_n = T[nn_state_intended, next_state, :]\n",
        "              #print(loc)\n",
        "              #print(next_loc)\n",
        "            next_action = np.random.choice([0,1,2,3] ,p=trans_n)\n",
        "            old_qsa = Q[state, action]\n",
        "            Q[state, action] = old_qsa + alpha*(reward + gamma*Q[next_state, next_action] - old_qsa)\n",
        "            biggest_change = max(biggest_change, np.abs(old_qsa - Q[state, action]))  \n",
        "\n",
        "            loc = next_loc\n",
        "            state = next_state\n",
        "            action = next_action \n",
        "            #rewards = trace[:, 2]\n",
        "            #discounts = np.array([gamma**i for i in range(len(rewards))])\n",
        "            #final_G = sum(discounts*np.flip(rewards))\n",
        "          deltas.append(biggest_change)\n",
        "          #reward_progress.append(total_reward)\n",
        "          episode_lengths.append(t)\n",
        "          episode_rewards.append(ep_reward)\n",
        "          err = np.sqrt(np.mean(np.square(np.subtract(V, dpV))))\n",
        "          rmse.append(err)\n",
        "          discounts = np.array([gamma**i for i in range(len(r_list))])\n",
        "          ep_return = np.sum(discounts*np.flip(np.array(r_list)))\n",
        "          final_ret.append(ep_return)\n",
        "          #deltas.append(biggest_change)    \n",
        "        return policy, return_progress       # episode_rewards , return_std, episode_lengths, V, rmse, final_ret\n",
        "\n",
        "\n",
        "\n",
        "    ########### Internal Helper Functions #####################\n",
        "    def paint_maps(self):\n",
        "        locs = self.locs\n",
        "        \n",
        "        plt.figure()\n",
        "        #plt.subplot(1,3,1)\n",
        "        #plt.imshow(self.walls)\n",
        "        #plt.subplot(1,3,2)\n",
        "        #plt.imshow(self.absorbers)\n",
        "        #plt.subplot(1,3,3)\n",
        "        #plt.imshow(self.rewarders)\n",
        "        plt.imshow(self.walls+self.rewarders +self.absorbers)\n",
        "        for i, loc in enumerate(locs):\n",
        "            #if(self.absorbing[0,i]):\n",
        "            #    continue\n",
        "            #location = self.locs[state]\n",
        "            state = self.loc_to_state_name(loc, locs)\n",
        "            plt.text(loc[1], loc[0], f's{state}')\n",
        "        plt.show()\n",
        "        \n",
        "    def build_grid_world(self):\n",
        "        # Get the locations of all the valid states, the neighbours of each state (by state number),\n",
        "        # and the absorbing states (array of 0's with ones in the absorbing states)\n",
        "        locations, neighbours, absorbing = self.get_topology()\n",
        "        \n",
        "        # Get the number of states\n",
        "        S = len(locations)\n",
        "        \n",
        "        # Initialise the transition matrix\n",
        "        T = np.zeros((S,S,4))\n",
        "        \n",
        "        for action in range(4):\n",
        "            for effect in range(4):\n",
        "                \n",
        "                # Randomize the outcome of taking an action\n",
        "                outcome = (action+effect+1) % 4\n",
        "                if outcome == 0:\n",
        "                    outcome = 3\n",
        "                else:\n",
        "                    outcome -= 1\n",
        "    \n",
        "                # Fill the transition matrix\n",
        "                prob = self.action_randomizing_array[effect]\n",
        "                for prior_state in range(S):\n",
        "                    post_state = neighbours[prior_state, outcome]\n",
        "                    post_state = int(post_state)\n",
        "                    T[post_state,prior_state,action] = T[post_state,prior_state,action]+prob\n",
        "\n",
        "        ids = np.argwhere(np.sum(T, axis=2, keepdims=False)>1)\n",
        "        for i, j in ids:\n",
        "          T[i, j, :] = T[i, j, :]/(T[i, j, :].sum())         \n",
        "    \n",
        "        # Build the reward matrix\n",
        "        R = self.default_reward*np.ones((S,S,4))\n",
        "        for i, sr in enumerate(self.special_rewards):\n",
        "            post_state = self.loc_to_state_idx(self.absorbing_locs[i],locations)\n",
        "            R[post_state,:,:]= sr\n",
        "        \n",
        "        return S, T,R,absorbing,locations\n",
        "    \n",
        "    def get_topology(self):\n",
        "        height = self.shape[0]\n",
        "        width = self.shape[1]\n",
        "        \n",
        "        index = 1 \n",
        "        locs = []\n",
        "        neighbour_locs = []\n",
        "        \n",
        "        for i in range(height):\n",
        "            for j in range(width):\n",
        "                # Get the locaiton of each state\n",
        "                loc = (i,j)\n",
        "                \n",
        "                #And append it to the valid state locations if it is a valid state (ie not absorbing)\n",
        "                if(self.is_location(loc)):\n",
        "                    locs.append(loc)\n",
        "                    \n",
        "                    # Get an array with the neighbours of each state, in terms of locations\n",
        "                    local_neighbours = [self.get_neighbour(loc,direction) for direction in ['nr','ea','so', 'we']]\n",
        "                    neighbour_locs.append(local_neighbours)\n",
        "                \n",
        "        # translate neighbour lists from locations to states\n",
        "        num_states = len(locs)\n",
        "        state_neighbours = np.zeros((num_states,4))\n",
        "        \n",
        "        for state in range(num_states):\n",
        "            for direction in range(4):\n",
        "                # Find neighbour location\n",
        "                nloc = neighbour_locs[state][direction]\n",
        "                \n",
        "                # Turn location into a state number\n",
        "                nstate = self.loc_to_state_idx(nloc,locs)\n",
        "      \n",
        "                # Insert into neighbour matrix\n",
        "                state_neighbours[state,direction] = nstate;\n",
        "                \n",
        "    \n",
        "        # Translate absorbing locations into absorbing state indices\n",
        "        absorbing = np.zeros((1,num_states))\n",
        "        for a in self.absorbing_locs:\n",
        "            absorbing_state = self.loc_to_state_idx(a,locs)\n",
        "            absorbing[0,absorbing_state] =1\n",
        "        \n",
        "        return locs, state_neighbours, absorbing \n",
        " \n",
        "    def loc_to_state_idx(self,loc,locs):\n",
        "        #takes list of locations and gives index corresponding to input loc\n",
        "        return locs.index(tuple(loc))\n",
        "\n",
        "    def loc_to_state_name(self,loc,locs):\n",
        "        states = self.states_order\n",
        "        idx = locs.index(tuple(loc))\n",
        "        return states[idx]\n",
        "\n",
        "    def is_location(self, loc):\n",
        "        # It is a valid location if it is in grid and not obstacle\n",
        "        if(loc[0]<0 or loc[1]<0 or loc[0]>self.shape[0]-1 or loc[1]>self.shape[1]-1):\n",
        "            return False\n",
        "        elif(loc in self.obstacle_locs):\n",
        "            return False\n",
        "        else:\n",
        "             return True\n",
        "            \n",
        "    def get_neighbour(self,loc, direction):   #direction\n",
        "        #Find the valid neighbours (ie that are in the grif and not obstacle)\n",
        "        i = loc[0]\n",
        "        j = loc[1]\n",
        "        \n",
        "        nr = (i-1,j)\n",
        "        ea = (i,j+1)\n",
        "        so = (i+1,j)\n",
        "        we = (i,j-1)\n",
        "\n",
        "\n",
        "        # If the neighbour is a valid location, accept it, otherwise, stay put\n",
        "        if(direction == 'nr' and self.is_location(nr)):\n",
        "            return nr\n",
        "        elif(direction == 'ea' and self.is_location(ea)):\n",
        "            return ea\n",
        "        elif(direction == 'so' and self.is_location(so)):\n",
        "            return so\n",
        "        elif(direction == 'we' and self.is_location(we)):\n",
        "            return we\n",
        "        else:\n",
        "            #default is to return to the same location\n",
        "            return loc\n",
        "\n",
        "###########################################     "
      ],
      "execution_count": 23,
      "outputs": []
    },
    {
      "cell_type": "code",
      "metadata": {
        "id": "8xXiUMlfCUau"
      },
      "source": [
        ""
      ],
      "execution_count": null,
      "outputs": []
    },
    {
      "cell_type": "markdown",
      "metadata": {
        "id": "5ovj1E3-CRb-"
      },
      "source": [
        "# Grid World"
      ]
    },
    {
      "cell_type": "markdown",
      "metadata": {
        "id": "rkHikmjlCeuR"
      },
      "source": [
        "A GridWorld object is created below. There are 29 states corresponding to locations on a grid. There are 2 terminal states. The reward state, s2, and the penalty state, s11. Reaching the reward state yields +10 reward and ends the episode. Reahcing the penalty state yields -100 reward and ends the episode. \n",
        "\n",
        "The starting state for simulations of the environment is chosen randomly from the 27 non-teminal states. \n",
        "\n",
        "There are 4 possible actions corresponding to moving in the four cardinal directions of the compass. The effects of actions are not deterministic and only succeed in moving in the desired direction with probability p, otheriwse one of the remianing 3 actions is taken with equal probability. If a wall blocks the agent’s path, then the agent will stay where it is, otherwise, it will move.  The agent receives a reward of −1 for every transition (the movement cost), except those movements ending in the terminal state (where the reward is collected for arriving at them)\n",
        "\n",
        "For this implementation, p is set to 0.45 and the discount factor for calculating the value of future states is set to 0.25. "
      ]
    },
    {
      "cell_type": "code",
      "metadata": {
        "id": "2je4Uk-5ZJuz",
        "colab": {
          "base_uri": "https://localhost:8080/",
          "height": 265
        },
        "outputId": "e21c82ea-f777-47df-e1d8-79c5b87df4a6"
      },
      "source": [
        "grid = GridWorld(p = 0.45)"
      ],
      "execution_count": 24,
      "outputs": [
        {
          "output_type": "display_data",
          "data": {
            "image/png": "[encoded data removed]",
            "text/plain": [
              "<Figure size 432x288 with 1 Axes>"
            ]
          },
          "metadata": {
            "tags": [],
            "needs_background": "light"
          }
        }
      ]
    },
    {
      "cell_type": "markdown",
      "metadata": {
        "id": "tvQZkLKPDzU0"
      },
      "source": [
        "The optimal value function and optimal policy caluclated using Dynamic Porgramming:"
      ]
    },
    {
      "cell_type": "code",
      "metadata": {
        "id": "CEf9v2VYG1k7",
        "colab": {
          "base_uri": "https://localhost:8080/",
          "height": 561
        },
        "outputId": "77384934-6a7c-4625-ca15-1028faa7c32f"
      },
      "source": [
        "dp_policy, dp_values = grid.value_iteration(0.001, 0.2)\n",
        "grid.draw_deterministic_policy(dp_policy, 'DP Optimal Policy')\n",
        "grid.draw_value(dp_values, 'DP Optimal Values')"
      ],
      "execution_count": 7,
      "outputs": [
        {
          "output_type": "stream",
          "text": [
            "Epochs:  5\n"
          ],
          "name": "stdout"
        },
        {
          "output_type": "display_data",
          "data": {
            "image/png": "[encoded data removed]",
            "text/plain": [
              "<Figure size 432x288 with 1 Axes>"
            ]
          },
          "metadata": {
            "tags": [],
            "needs_background": "light"
          }
        },
        {
          "output_type": "display_data",
          "data": {
            "image/png": "[encoded data removed]",
            "text/plain": [
              "<Figure size 432x288 with 1 Axes>"
            ]
          },
          "metadata": {
            "tags": [],
            "needs_background": "light"
          }
        }
      ]
    },
    {
      "cell_type": "markdown",
      "metadata": {
        "id": "Od5WLNOpHK3M"
      },
      "source": [
        "Assuming the dynamics of the model are unknown and the optimal policy is unknown, the optimal value function and optimal policy can be estimated using Monte Carlo reinforcement learning. The iterative monte carlo control algorithm is used to estimate the optimal policy. \n",
        "\n",
        "The starting state was randomly selected from the 27 valid, non-terminating states to ensure the estimation algorithm has sufficient knowledge of the gridworld environment (exploring starts). A decaying learning rate was used.  It was initialised to 1 and with each iteration it was multiplied by a decay factor (0.9995) until it reached a minimum of 0.05. This improved the outcome as Q(s,a) is updated by a large factor at the beginning and then as the estimation improves with each iteration the update factor is reduced so that it approaches the true optimal Q(s,a). A soft, epsilon-greedy policy was used to ensure the full state, action space was explored. Epsilon was initialized to 1 and then multiplied by a decaying factor (0.9994) for each iteration until it reached a set minimum value (0.05) so that the algorithm starts out using a uniform policy (100% random actions) and then explores less and exploits more as it learns more about the world but still continues to explore for all timesteps. Epsilon is therefore Greedy in the Limit with Infinite Exploration (GLIE), which guarantees that the monte carlo control algorithm converges to the optimal policy.\n"
      ]
    },
    {
      "cell_type": "code",
      "metadata": {
        "colab": {
          "base_uri": "https://localhost:8080/",
          "height": 444
        },
        "id": "0YPhGcn1HWIz",
        "outputId": "b854cd26-56f6-41a2-f61a-d3f95a05dc04"
      },
      "source": [
        "mc_policy, rmse, return_progress = grid.mc_iterative(8000, dp_policy, gamma = 0.2)\n",
        "\n",
        "plt.plot(return_progress)\n",
        "plt.title('Monte Carlo Iterative Optimisation Learning Curve')\n",
        "plt.ylabel('Return')\n",
        "plt.xlabel('Iterations')\n"
      ],
      "execution_count": 10,
      "outputs": [
        {
          "output_type": "stream",
          "text": [
            "Episode 1000 -> epsilon=0.54871281936461\n",
            "Episode 2000 -> epsilon=0.30108575813505833\n",
            "Episode 3000 -> epsilon=0.16520961521681843\n",
            "Episode 4000 -> epsilon=0.09065263375176265\n",
            "Episode 5000 -> epsilon=0.05\n",
            "Episode 6000 -> epsilon=0.05\n",
            "Episode 7000 -> epsilon=0.05\n",
            "Episode 8000 -> epsilon=0.05\n"
          ],
          "name": "stdout"
        },
        {
          "output_type": "execute_result",
          "data": {
            "text/plain": [
              "Text(0.5, 0, 'Iterations')"
            ]
          },
          "metadata": {
            "tags": []
          },
          "execution_count": 10
        },
        {
          "output_type": "display_data",
          "data": {
            "image/png": "[encoded data removed]",
            "text/plain": [
              "<Figure size 432x288 with 1 Axes>"
            ]
          },
          "metadata": {
            "tags": [],
            "needs_background": "light"
          }
        }
      ]
    },
    {
      "cell_type": "code",
      "metadata": {
        "colab": {
          "base_uri": "https://localhost:8080/",
          "height": 280
        },
        "id": "mgxw0k5_KaI3",
        "outputId": "39b06b4f-6681-4cea-eec6-5072e15746fb"
      },
      "source": [
        "grid.draw_deterministic_policy(mc_policy, 'MC Optimal Policy')"
      ],
      "execution_count": 11,
      "outputs": [
        {
          "output_type": "display_data",
          "data": {
            "image/png": "[encoded data removed]",
            "text/plain": [
              "<Figure size 432x288 with 1 Axes>"
            ]
          },
          "metadata": {
            "tags": [],
            "needs_background": "light"
          }
        }
      ]
    },
    {
      "cell_type": "markdown",
      "metadata": {
        "id": "CBvKXj54MzCg"
      },
      "source": [
        "The optimal value function can be estimated using first visit incremental monte carlo estimation. The value for a state is estimated as the mean return for that state which converges to the optimal value for a policy if an infinite number of episodes is observed."
      ]
    },
    {
      "cell_type": "code",
      "metadata": {
        "colab": {
          "base_uri": "https://localhost:8080/",
          "height": 280
        },
        "id": "cEsnG_s8Khra",
        "outputId": "dad9c109-0285-44e0-e23f-cabdbf54ddaa"
      },
      "source": [
        "mc_values, mc_rmse = grid.mc_estimation(mc_policy, dp_values, 40000)\n",
        "grid.draw_value(mc_values, 'MC Optimal Values')"
      ],
      "execution_count": 20,
      "outputs": [
        {
          "output_type": "display_data",
          "data": {
            "image/png": "[encoded data removed]",
            "text/plain": [
              "<Figure size 432x288 with 1 Axes>"
            ]
          },
          "metadata": {
            "tags": [],
            "needs_background": "light"
          }
        }
      ]
    },
    {
      "cell_type": "code",
      "metadata": {
        "colab": {
          "base_uri": "https://localhost:8080/",
          "height": 312
        },
        "id": "-HiHP40VQOi3",
        "outputId": "8f2aee38-53b0-462d-d378-52d0980f7bb5"
      },
      "source": [
        "plt.plot(mc_rmse)\n",
        "plt.title('Optimal Value MC Estimation Error')\n",
        "plt.ylabel('Root Mean Square Error')\n",
        "plt.xlabel('Episodes')"
      ],
      "execution_count": 21,
      "outputs": [
        {
          "output_type": "execute_result",
          "data": {
            "text/plain": [
              "Text(0.5, 0, 'Episodes')"
            ]
          },
          "metadata": {
            "tags": []
          },
          "execution_count": 21
        },
        {
          "output_type": "display_data",
          "data": {
            "image/png": "[encoded data removed]",
            "text/plain": [
              "<Figure size 432x288 with 1 Axes>"
            ]
          },
          "metadata": {
            "tags": [],
            "needs_background": "light"
          }
        }
      ]
    },
    {
      "cell_type": "markdown",
      "metadata": {
        "id": "_6MZOwooNBSV"
      },
      "source": [
        "The SARSA TD control algorithm can also be used to caluclated the optimal policy when the dynamics of the model are unknown."
      ]
    },
    {
      "cell_type": "code",
      "metadata": {
        "colab": {
          "base_uri": "https://localhost:8080/",
          "height": 477
        },
        "id": "cvRixscZNd_y",
        "outputId": "b564e62e-21f0-41e5-9781-12fdf80c7b6d"
      },
      "source": [
        "td_policy, return_progress = grid.sarsa(10000, dp_values)\n",
        "\n",
        "plt.plot(return_progress)\n",
        "plt.title('SARSA Optimisation Learning Curve')\n",
        "plt.ylabel('Return')\n",
        "plt.xlabel('Iterations')"
      ],
      "execution_count": 22,
      "outputs": [
        {
          "output_type": "stream",
          "text": [
            "Episode 1000 -> epsilon=0.54871281936461\n",
            "Episode 2000 -> epsilon=0.30108575813505833\n",
            "Episode 3000 -> epsilon=0.16520961521681843\n",
            "Episode 4000 -> epsilon=0.09065263375176265\n",
            "Episode 5000 -> epsilon=0.05\n",
            "Episode 6000 -> epsilon=0.05\n",
            "Episode 7000 -> epsilon=0.05\n",
            "Episode 8000 -> epsilon=0.05\n",
            "Episode 9000 -> epsilon=0.05\n",
            "Episode 10000 -> epsilon=0.05\n"
          ],
          "name": "stdout"
        },
        {
          "output_type": "execute_result",
          "data": {
            "text/plain": [
              "Text(0.5, 0, 'Iterations')"
            ]
          },
          "metadata": {
            "tags": []
          },
          "execution_count": 22
        },
        {
          "output_type": "display_data",
          "data": {
            "image/png": "[encoded data removed]",
            "text/plain": [
              "<Figure size 432x288 with 1 Axes>"
            ]
          },
          "metadata": {
            "tags": [],
            "needs_background": "light"
          }
        }
      ]
    },
    {
      "cell_type": "code",
      "metadata": {
        "colab": {
          "base_uri": "https://localhost:8080/",
          "height": 280
        },
        "id": "G6EqaOVmWTzc",
        "outputId": "334d5b3f-7b40-404d-c776-5ed3411d59ac"
      },
      "source": [
        "grid.draw_deterministic_policy(td_policy, 'TD Optimal Policy')"
      ],
      "execution_count": 26,
      "outputs": [
        {
          "output_type": "display_data",
          "data": {
            "image/png": "[encoded data removed]",
            "text/plain": [
              "<Figure size 432x288 with 1 Axes>"
            ]
          },
          "metadata": {
            "tags": [],
            "needs_background": "light"
          }
        }
      ]
    },
    {
      "cell_type": "markdown",
      "metadata": {
        "id": "DxybInQ7NeO_"
      },
      "source": [
        "This policy is then fed to the temporal difference value function estimation algorithm to estimate the optimal value function for this policy. A greedy soft policy (GLIE) was implemented and the epsilon valuewas decayed with each episode.The learning rate was also decayed. "
      ]
    },
    {
      "cell_type": "code",
      "metadata": {
        "id": "d1k0aqNwC6Pj",
        "colab": {
          "base_uri": "https://localhost:8080/",
          "height": 313
        },
        "outputId": "8a90df4a-eea7-4135-f89b-ac13088844d3"
      },
      "source": [
        "td_values, td_rmse = grid.td_estimation(td_policy, dp_values, 40000)\n",
        "grid.draw_value(mc_values, 'TD Optimal Values')"
      ],
      "execution_count": 25,
      "outputs": [
        {
          "output_type": "stream",
          "text": [
            "ep: 0\n",
            "ep: 20000\n"
          ],
          "name": "stdout"
        },
        {
          "output_type": "display_data",
          "data": {
            "image/png": "[encoded data removed]",
            "text/plain": [
              "<Figure size 432x288 with 1 Axes>"
            ]
          },
          "metadata": {
            "tags": [],
            "needs_background": "light"
          }
        }
      ]
    },
    {
      "cell_type": "code",
      "metadata": {
        "id": "EwYGM6Xgiag8",
        "colab": {
          "base_uri": "https://localhost:8080/",
          "height": 312
        },
        "outputId": "4950e257-2c0c-49c3-cd99-fd095d4a8aeb"
      },
      "source": [
        "plt.plot(td_rmse)\n",
        "plt.title('Optimal Value TD Estimation Error')\n",
        "plt.ylabel('Root Mean Square Error')\n",
        "plt.xlabel('Episodes')"
      ],
      "execution_count": 27,
      "outputs": [
        {
          "output_type": "execute_result",
          "data": {
            "text/plain": [
              "Text(0.5, 0, 'Episodes')"
            ]
          },
          "metadata": {
            "tags": []
          },
          "execution_count": 27
        },
        {
          "output_type": "display_data",
          "data": {
            "image/png": "[encoded data removed]",
            "text/plain": [
              "<Figure size 432x288 with 1 Axes>"
            ]
          },
          "metadata": {
            "tags": [],
            "needs_background": "light"
          }
        }
      ]
    },
    {
      "cell_type": "code",
      "metadata": {
        "id": "goVPDEp-5gzg"
      },
      "source": [
        ""
      ],
      "execution_count": null,
      "outputs": []
    }
  ]
}